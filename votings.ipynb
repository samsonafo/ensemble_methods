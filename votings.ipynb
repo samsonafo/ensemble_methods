{
 "nbformat": 4,
 "nbformat_minor": 2,
 "metadata": {
  "language_info": {
   "name": "python",
   "codemirror_mode": {
    "name": "ipython",
    "version": 3
   },
   "version": "3.6.9-final"
  },
  "orig_nbformat": 2,
  "file_extension": ".py",
  "mimetype": "text/x-python",
  "name": "python",
  "npconvert_exporter": "python",
  "pygments_lexer": "ipython3",
  "version": 3,
  "kernelspec": {
   "name": "python3",
   "display_name": "Python 3"
  }
 },
 "cells": [
  {
   "cell_type": "code",
   "execution_count": 1,
   "metadata": {},
   "outputs": [],
   "source": [
    "#import libraries\n",
    "import pandas as pd\n",
    "import numpy as np \n",
    "from sklearn.ensemble import StackingClassifier, VotingClassifier , RandomForestClassifier\n",
    "from sklearn.metrics import f1_score"
   ]
  },
  {
   "cell_type": "code",
   "execution_count": 2,
   "metadata": {},
   "outputs": [],
   "source": [
    "#import dataset\n",
    "train = pd.read_csv('./titanic/train.csv')\n",
    "test = pd.read_csv('./titanic/test.csv')\n",
    "\n",
    "X = train.drop('Survived',axis=1)\n",
    "y = train['Survived']\n",
    "\n",
    "#train-test-split\n",
    "from sklearn.model_selection import train_test_split\n",
    "X_train,X_test,y_train,y_test = train_test_split(X,y,test_size=0.2,random_state=42)"
   ]
  },
  {
   "cell_type": "code",
   "execution_count": 3,
   "metadata": {},
   "outputs": [],
   "source": [
    "#data cleaning and prep\n",
    "\n",
    "def data_clean(df):\n",
    "    df = df.drop(['Name','PassengerId','Ticket','Cabin'],axis=1)  #drop unnecessary columns\n",
    "    for col in df.select_dtypes(include=['number']):   #replace missing value with column mean\n",
    "        df[col].fillna(df[col].mean(),inplace=True) \n",
    "    for col in df.select_dtypes(include=['object']):\n",
    "        df[col].fillna(df[col].value_counts().index[0], inplace=True)  #replace missing value with column mode\n",
    "    return df\n",
    "\n",
    "X_train = data_clean(X_train)   \n",
    "X_test = data_clean(X_test)"
   ]
  },
  {
   "cell_type": "code",
   "execution_count": 4,
   "metadata": {},
   "outputs": [],
   "source": [
    "#data encoding\n",
    "from sklearn.preprocessing import LabelEncoder\n",
    "def data_encode(df):\n",
    "    le_sex = LabelEncoder()\n",
    "    le_embk = LabelEncoder()\n",
    "\n",
    "    df.Sex = le_sex.fit_transform(df.Sex)\n",
    "    df.Embarked = le_embk.fit_transform(df.Embarked)\n",
    "\n",
    "    return df, le_sex, le_embk\n",
    "X_train, le_sex, le_embk = data_encode(X_train)"
   ]
  },
  {
   "cell_type": "code",
   "execution_count": 5,
   "metadata": {},
   "outputs": [],
   "source": [
    "def test_encode(df, le_sex, le_embk):\n",
    "\n",
    "    df.Sex = le_sex.transform(df.Sex)\n",
    "    df.Embarked = le_embk.transform(df.Embarked)\n",
    "    return df\n",
    "\n",
    "X_test = test_encode(X_test, le_sex, le_embk)"
   ]
  },
  {
   "cell_type": "code",
   "execution_count": 6,
   "metadata": {},
   "outputs": [
    {
     "name": "stdout",
     "output_type": "stream",
     "text": "The score using Logistic Regression is 0.7638888888888888\n"
    }
   ],
   "source": [
    "#Logistic Regression\n",
    "from sklearn.linear_model import LogisticRegression\n",
    "\n",
    "lr = LogisticRegression()\n",
    "lr.fit(X_train,y_train)\n",
    "\n",
    "y_predict_lr = lr.predict(X_test)\n",
    "score_lr = f1_score(y_test,y_predict_lr)\n",
    "\n",
    "print('The score using Logistic Regression is {}'.format(score_lr))"
   ]
  },
  {
   "cell_type": "code",
   "execution_count": null,
   "metadata": {},
   "outputs": [],
   "source": []
  }
 ]
}